{
 "cells": [
  {
   "cell_type": "markdown",
   "id": "55aee66b",
   "metadata": {},
   "source": [
    "## Bank Marketing campaigns of a Portuguese Banking Institution"
   ]
  },
  {
   "cell_type": "markdown",
   "id": "84326db4",
   "metadata": {},
   "source": [
    "#### PROBLEM STATEMENT :\n",
    "\n",
    "The problem is that the Bank Marketing campaigns of a Portuguese banking institution need to identify the factors that cause the customers to tend to take the subscription, as well as Bank Marketing campaigns of a Portuguese banking institution need to identify the reasons behind the customer which make them not take the subscription.\n",
    "\n",
    "#### Aim :\n",
    "\n",
    "We are aiming to Determinate/Analysis the factors for the subscription and nonsubscription."
   ]
  },
  {
   "cell_type": "markdown",
   "id": "873cab7e",
   "metadata": {},
   "source": [
    "## Check Point 1:\n",
    "\n",
    "### 1. Firstly, we are importing the dataset of the bank."
   ]
  },
  {
   "cell_type": "code",
   "execution_count": 1,
   "id": "10e6a731",
   "metadata": {},
   "outputs": [],
   "source": [
    "import numpy as np \n",
    "import pandas as pd \n",
    "import matplotlib.pyplot as plt\n",
    "import seaborn as sns\n",
    "import os \n",
    "os.chdir('C:\\\\Users\\\\Roopali Sudra\\\\Downloads\\\\Project 4-1-1\\\\Project 4')"
   ]
  },
  {
   "cell_type": "code",
   "execution_count": 2,
   "id": "8c5eb30f",
   "metadata": {},
   "outputs": [
    {
     "data": {
      "text/html": [
       "<div>\n",
       "<style scoped>\n",
       "    .dataframe tbody tr th:only-of-type {\n",
       "        vertical-align: middle;\n",
       "    }\n",
       "\n",
       "    .dataframe tbody tr th {\n",
       "        vertical-align: top;\n",
       "    }\n",
       "\n",
       "    .dataframe thead th {\n",
       "        text-align: right;\n",
       "    }\n",
       "</style>\n",
       "<table border=\"1\" class=\"dataframe\">\n",
       "  <thead>\n",
       "    <tr style=\"text-align: right;\">\n",
       "      <th></th>\n",
       "      <th>age</th>\n",
       "      <th>job</th>\n",
       "      <th>marital</th>\n",
       "      <th>education</th>\n",
       "      <th>default</th>\n",
       "      <th>balance</th>\n",
       "      <th>housing</th>\n",
       "      <th>loan</th>\n",
       "      <th>contact</th>\n",
       "      <th>day</th>\n",
       "      <th>month</th>\n",
       "      <th>duration</th>\n",
       "      <th>campaign</th>\n",
       "      <th>pdays</th>\n",
       "      <th>previous</th>\n",
       "      <th>poutcome</th>\n",
       "      <th>y</th>\n",
       "    </tr>\n",
       "  </thead>\n",
       "  <tbody>\n",
       "    <tr>\n",
       "      <th>0</th>\n",
       "      <td>30</td>\n",
       "      <td>unemployed</td>\n",
       "      <td>married</td>\n",
       "      <td>primary</td>\n",
       "      <td>no</td>\n",
       "      <td>1787</td>\n",
       "      <td>no</td>\n",
       "      <td>no</td>\n",
       "      <td>cellular</td>\n",
       "      <td>19</td>\n",
       "      <td>oct</td>\n",
       "      <td>79</td>\n",
       "      <td>1</td>\n",
       "      <td>-1</td>\n",
       "      <td>0</td>\n",
       "      <td>unknown</td>\n",
       "      <td>no</td>\n",
       "    </tr>\n",
       "    <tr>\n",
       "      <th>1</th>\n",
       "      <td>33</td>\n",
       "      <td>services</td>\n",
       "      <td>married</td>\n",
       "      <td>secondary</td>\n",
       "      <td>no</td>\n",
       "      <td>4789</td>\n",
       "      <td>yes</td>\n",
       "      <td>yes</td>\n",
       "      <td>cellular</td>\n",
       "      <td>11</td>\n",
       "      <td>may</td>\n",
       "      <td>220</td>\n",
       "      <td>1</td>\n",
       "      <td>339</td>\n",
       "      <td>4</td>\n",
       "      <td>failure</td>\n",
       "      <td>no</td>\n",
       "    </tr>\n",
       "    <tr>\n",
       "      <th>2</th>\n",
       "      <td>35</td>\n",
       "      <td>management</td>\n",
       "      <td>single</td>\n",
       "      <td>tertiary</td>\n",
       "      <td>no</td>\n",
       "      <td>1350</td>\n",
       "      <td>yes</td>\n",
       "      <td>no</td>\n",
       "      <td>cellular</td>\n",
       "      <td>16</td>\n",
       "      <td>apr</td>\n",
       "      <td>185</td>\n",
       "      <td>1</td>\n",
       "      <td>330</td>\n",
       "      <td>1</td>\n",
       "      <td>failure</td>\n",
       "      <td>no</td>\n",
       "    </tr>\n",
       "    <tr>\n",
       "      <th>3</th>\n",
       "      <td>30</td>\n",
       "      <td>management</td>\n",
       "      <td>married</td>\n",
       "      <td>tertiary</td>\n",
       "      <td>no</td>\n",
       "      <td>1476</td>\n",
       "      <td>yes</td>\n",
       "      <td>yes</td>\n",
       "      <td>unknown</td>\n",
       "      <td>3</td>\n",
       "      <td>jun</td>\n",
       "      <td>199</td>\n",
       "      <td>4</td>\n",
       "      <td>-1</td>\n",
       "      <td>0</td>\n",
       "      <td>unknown</td>\n",
       "      <td>no</td>\n",
       "    </tr>\n",
       "    <tr>\n",
       "      <th>4</th>\n",
       "      <td>59</td>\n",
       "      <td>blue-collar</td>\n",
       "      <td>married</td>\n",
       "      <td>secondary</td>\n",
       "      <td>no</td>\n",
       "      <td>0</td>\n",
       "      <td>yes</td>\n",
       "      <td>no</td>\n",
       "      <td>unknown</td>\n",
       "      <td>5</td>\n",
       "      <td>may</td>\n",
       "      <td>226</td>\n",
       "      <td>1</td>\n",
       "      <td>-1</td>\n",
       "      <td>0</td>\n",
       "      <td>unknown</td>\n",
       "      <td>no</td>\n",
       "    </tr>\n",
       "  </tbody>\n",
       "</table>\n",
       "</div>"
      ],
      "text/plain": [
       "   age          job  marital  education default  balance housing loan  \\\n",
       "0   30   unemployed  married    primary      no     1787      no   no   \n",
       "1   33     services  married  secondary      no     4789     yes  yes   \n",
       "2   35   management   single   tertiary      no     1350     yes   no   \n",
       "3   30   management  married   tertiary      no     1476     yes  yes   \n",
       "4   59  blue-collar  married  secondary      no        0     yes   no   \n",
       "\n",
       "    contact  day month  duration  campaign  pdays  previous poutcome   y  \n",
       "0  cellular   19   oct        79         1     -1         0  unknown  no  \n",
       "1  cellular   11   may       220         1    339         4  failure  no  \n",
       "2  cellular   16   apr       185         1    330         1  failure  no  \n",
       "3   unknown    3   jun       199         4     -1         0  unknown  no  \n",
       "4   unknown    5   may       226         1     -1         0  unknown  no  "
      ]
     },
     "execution_count": 2,
     "metadata": {},
     "output_type": "execute_result"
    }
   ],
   "source": [
    "bankdf = pd.read_csv(\"bank.csv\")\n",
    "# Displaying the first few rows of the dataset with the help of .head function \n",
    "bankdf.head()"
   ]
  },
  {
   "cell_type": "markdown",
   "id": "6943847f",
   "metadata": {},
   "source": [
    "#### DATASET DESCRIPTION:\n",
    "\n",
    "Bank Marketing: The data is related to direct marketing campaigns of a Portuguese banking institution. The marketing campaigns were based on phone calls. Often, more than one contact with the same client was required to assess if the product (bank term deposit) would be (or not) subscribed.\n",
    "\n",
    "\n",
    "#### DATA DICTIONARY:\n",
    "\n",
    "1 - age (numeric)\n",
    "\n",
    "2 - job : type of job (categorical: \n",
    "\"admin.\",\"unknown\",\"unemployed\",\"management\",\"housemaid\",\"entrepreneur\", \"student\",\"bluecollar\",\"self-employed\",\"retired\",\"technician\",\"services\")\n",
    "\n",
    "3 - marital : marital status (categorical: \"married\",\"divorced\",\"single\"; note: \"divorced\" means \n",
    "divorced or widowed)\n",
    "\n",
    "4 - education (categorical: \"unknown\",\"secondary\",\"primary\",\"tertiary\")\n",
    "\n",
    "5 - default: has credit in default? (binary: \"yes\",\"no\")\n",
    "\n",
    "6 - balance: average yearly balance, in euros (numeric)\n",
    "\n",
    "7 - housing: has a housing loan? (binary: \"yes\",\"no\")\n",
    "\n",
    "8 - loan: has personal loan? (binary: \"yes\",\"no\")\n",
    "\n",
    "- related to the last contact of the current campaign:\n",
    "\n",
    "9 - contact: contact communication type (categorical: \"unknown\",\"telephone\",\"cellular\")\n",
    "\n",
    "10 - day: last contact day of the month (numeric)\n",
    "\n",
    "11 - month: last contact month of year (categorical: \"jan\", \"feb\", \"mar\", ..., \"nov\", \"dec\")\n",
    "\n",
    "12 - duration: last contact duration, in seconds (numeric)\n",
    "\n",
    "- other attributes:\n",
    "\n",
    "13 - campaign: number of contacts performed during this campaign and for this client (numeric, \n",
    "includes the last contact\n",
    "\n",
    "14 - P-days: number of days that passed by after the client was last contacted from a previous \n",
    "campaign (numeric, -1 means client was not previously contacted)\n",
    "\n",
    "15 - previous: number of contacts performed before this campaign and for this client (numeric)\n",
    "\n",
    "16 - poutcome: outcome of the previous marketing campaign (categorical: \n",
    "\"unknown\",\"other\",\"failure\",\"success\")\n",
    "\n",
    "- output variable (desired target):\n",
    "\n",
    "17 - y - has the client subscribed to a term deposit? (binary: \"yes\",\"no\")\n",
    "\n"
   ]
  },
  {
   "cell_type": "code",
   "execution_count": 3,
   "id": "3a61813d",
   "metadata": {},
   "outputs": [
    {
     "name": "stdout",
     "output_type": "stream",
     "text": [
      "<class 'pandas.core.frame.DataFrame'>\n",
      "RangeIndex: 4521 entries, 0 to 4520\n",
      "Data columns (total 17 columns):\n",
      " #   Column     Non-Null Count  Dtype \n",
      "---  ------     --------------  ----- \n",
      " 0   age        4521 non-null   int64 \n",
      " 1   job        4521 non-null   object\n",
      " 2   marital    4521 non-null   object\n",
      " 3   education  4521 non-null   object\n",
      " 4   default    4521 non-null   object\n",
      " 5   balance    4521 non-null   int64 \n",
      " 6   housing    4521 non-null   object\n",
      " 7   loan       4521 non-null   object\n",
      " 8   contact    4521 non-null   object\n",
      " 9   day        4521 non-null   int64 \n",
      " 10  month      4521 non-null   object\n",
      " 11  duration   4521 non-null   int64 \n",
      " 12  campaign   4521 non-null   int64 \n",
      " 13  pdays      4521 non-null   int64 \n",
      " 14  previous   4521 non-null   int64 \n",
      " 15  poutcome   4521 non-null   object\n",
      " 16  y          4521 non-null   object\n",
      "dtypes: int64(7), object(10)\n",
      "memory usage: 600.6+ KB\n"
     ]
    }
   ],
   "source": [
    "#Displaying the information about the dataset.\n",
    "bankdf.info()"
   ]
  },
  {
   "cell_type": "markdown",
   "id": "e76507cd",
   "metadata": {},
   "source": [
    "### 2. Now, we are making the data appropriate for our analysis"
   ]
  },
  {
   "cell_type": "markdown",
   "id": "c18c9be4",
   "metadata": {},
   "source": [
    "#### A. In this step we are identifying the features of data types before entering into the analysis.\n",
    "\n",
    "#### Integer type:\n",
    "\n",
    "age, balance, day, duration, campaign, pdays, and previous\n",
    "\n",
    "#### Object type: \n",
    "\n",
    "job, marital, education, default, housing, loan, contact, month, poutcome, and y"
   ]
  },
  {
   "cell_type": "markdown",
   "id": "bdcad893",
   "metadata": {},
   "source": [
    "#### B. There is no need to convert the datatypes here. If the datatypes where wrongly identified according to the business(domain). We could have used the User Defined function and loop to convert the data types."
   ]
  },
  {
   "cell_type": "markdown",
   "id": "1e612f50",
   "metadata": {},
   "source": [
    "#### C. In this step we are finding and removing the missing values, if any. "
   ]
  },
  {
   "cell_type": "code",
   "execution_count": 4,
   "id": "e47e20d5",
   "metadata": {},
   "outputs": [
    {
     "data": {
      "text/plain": [
       "age          0\n",
       "job          0\n",
       "marital      0\n",
       "education    0\n",
       "default      0\n",
       "balance      0\n",
       "housing      0\n",
       "loan         0\n",
       "contact      0\n",
       "day          0\n",
       "month        0\n",
       "duration     0\n",
       "campaign     0\n",
       "pdays        0\n",
       "previous     0\n",
       "poutcome     0\n",
       "y            0\n",
       "dtype: int64"
      ]
     },
     "execution_count": 4,
     "metadata": {},
     "output_type": "execute_result"
    }
   ],
   "source": [
    "#This code calculates the number of missing values in each column of the 'bankdf' dataframe\n",
    "missing_values = bankdf.isnull().sum()\n",
    "missing_values"
   ]
  },
  {
   "cell_type": "markdown",
   "id": "a12c09ad",
   "metadata": {},
   "source": [
    "#### D. In this step, we are trying to find out the duplicates."
   ]
  },
  {
   "cell_type": "code",
   "execution_count": 5,
   "id": "fc0df1e8",
   "metadata": {},
   "outputs": [
    {
     "name": "stdout",
     "output_type": "stream",
     "text": [
      "No duplicate rows were found.\n"
     ]
    }
   ],
   "source": [
    "#Finding duplicate rows in bankdf DataFrame and assigning them to duplicate_rows variable\n",
    "duplicate_rows = bankdf[bankdf.duplicated()]\n",
    "\n",
    "#Writing a python conditional statement to check for any duplicate values.\n",
    "\n",
    "if len(duplicate_rows) > 0:\n",
    "    print(f\"Found {len(duplicate_rows)} duplicate rows:\")\n",
    "    print(duplicate_rows)\n",
    "else:\n",
    "    print(\"No duplicate rows were found.\")"
   ]
  },
  {
   "cell_type": "markdown",
   "id": "a9bbe256",
   "metadata": {},
   "source": [
    "In case if we had found any duplicates, we remove the duplicate rows from the data set using the drop_duplicates method of the Pandas DataFrame."
   ]
  },
  {
   "cell_type": "markdown",
   "id": "62485b1f",
   "metadata": {},
   "source": [
    "## Check Point 2 :"
   ]
  },
  {
   "cell_type": "markdown",
   "id": "cbdef683",
   "metadata": {},
   "source": [
    "#### 3. Finding the average balance of the customer who belongs to the subscribed customer and non-subscribed customer and also use a related plot to show them in visualization."
   ]
  },
  {
   "cell_type": "code",
   "execution_count": 7,
   "id": "a1e965df",
   "metadata": {},
   "outputs": [
    {
     "name": "stdout",
     "output_type": "stream",
     "text": [
      "1571.9558541266795\n",
      "1403.21175\n"
     ]
    },
    {
     "data": {
      "image/png": "[encoded data removed]",
      "text/plain": [
       "<Figure size 432x288 with 1 Axes>"
      ]
     },
     "metadata": {
      "needs_background": "light"
     },
     "output_type": "display_data"
    }
   ],
   "source": [
    "#Calculating the average balance of customers who subscribed to the term deposit.\n",
    "avg_bal_sub = bankdf[bankdf['y'] == 'yes']['balance'].mean()\n",
    "print(avg_bal_sub)\n",
    "\n",
    "#Calculating the average balance of customers who did not subscribed to the term deposit.\n",
    "avg_bal_nonsub = bankdf[bankdf['y'] == 'no']['balance'].mean()\n",
    "print(avg_bal_nonsub)\n",
    "\n",
    "#Creating a bar plot showing the average balance of customers \n",
    "plt.bar(['Subscribed','Non subscribed'],[avg_bal_sub,avg_bal_nonsub])\n",
    "plt.title('Average balance of subscribed and non-subscribed customers')\n",
    "plt.ylabel('Average balance')\n",
    "\n",
    "#Add text annotation to show the value of avg_bal_sub on the bar plot.\n",
    "plt.text(0, avg_bal_sub, round(avg_bal_sub, 2), ha='center', va='bottom')\n",
    "\n",
    "#Add text label for the average balance of non-subscribed customers on the bar plot\n",
    "plt.text(1, avg_bal_nonsub, round(avg_bal_nonsub, 2), ha='center', va='bottom')\n",
    "plt.show()"
   ]
  },
  {
   "cell_type": "markdown",
   "id": "48e7df88",
   "metadata": {},
   "source": [
    "The results show that term deposit subscribers' average balances are greater (1571.96 euros) than those of non-subscribers. (1403.21 euros). It might be concluded from this that clients with larger balances are more inclined to sign up for a term deposit."
   ]
  },
  {
   "cell_type": "markdown",
   "id": "2f47c98f",
   "metadata": {},
   "source": [
    "#### 4. Use a pie plot to find the distribution(frequency) of the education. Make sure to add labels and show the percentage of each education distribution."
   ]
  },
  {
   "cell_type": "code",
   "execution_count": 8,
   "id": "20579134",
   "metadata": {},
   "outputs": [
    {
     "name": "stdout",
     "output_type": "stream",
     "text": [
      "secondary    2306\n",
      "tertiary     1350\n",
      "primary       678\n",
      "unknown       187\n",
      "Name: education, dtype: int64\n"
     ]
    },
    {
     "data": {
      "image/png": "[encoded data removed]",
      "text/plain": [
       "<Figure size 720x576 with 1 Axes>"
      ]
     },
     "metadata": {},
     "output_type": "display_data"
    }
   ],
   "source": [
    "#Counting the number of people with each level of education.\n",
    "education_counts = bankdf['education'].value_counts()\n",
    "print(education_counts)\n",
    "\n",
    "#This code creates a new figure with a size of 10x8 inches.\n",
    "plt.figure(figsize=(10,8))\n",
    "\n",
    "#This code creates a pie chart of the distribution of education levels of customers in the bank dataset\n",
    "#The labels on the slices show the education levels and the percentage of customers with that level of education\n",
    "#The textprops parameter is used to set the font size and color of the labels.\n",
    "plt.pie(education_counts,autopct = '%1.1f%%',labels=education_counts.index,textprops={'fontsize': 14, 'color':'white'})\n",
    "\n",
    "edu_levels = ['Primary', 'Secondary', 'Tertiary', 'Unknown']\n",
    "\n",
    "#This codes adds a text annotation to the pie plot\n",
    "plt.text(0.3, -0.55, edu_levels[0], fontsize=12, color='black')\n",
    "plt.text(-0.2, 0.4, edu_levels[1], fontsize=12, color='black')\n",
    "plt.text(-0.5, -0.4, edu_levels[2], fontsize=14, color='black')\n",
    "plt.text(0.7, -0.1, edu_levels[3], fontsize=10, color='black')\n",
    "\n",
    "plt.title('Proportion of Customers by Education')\n",
    "plt.show()"
   ]
  },
  {
   "cell_type": "markdown",
   "id": "8e56ddb3",
   "metadata": {},
   "source": [
    "According to the pie chart, which represents roughly 51% of the entire dataset, the bulk of the clients had a secondary education. With about 30% of the total, higher education ranks as the second most popular level of education. With almost 15% of all education levels, primary schooling is the third most prevalent level. Only approximately 4% of the total clients are the remaining ones, who are uninformed about education levels."
   ]
  },
  {
   "cell_type": "markdown",
   "id": "fa8fa6eb",
   "metadata": {},
   "source": [
    "#### 5. Create a function that should be able to create a new feature(Variable) called season using the month column."
   ]
  },
  {
   "cell_type": "code",
   "execution_count": 9,
   "id": "3ff9c479",
   "metadata": {},
   "outputs": [
    {
     "data": {
      "text/html": [
       "<div>\n",
       "<style scoped>\n",
       "    .dataframe tbody tr th:only-of-type {\n",
       "        vertical-align: middle;\n",
       "    }\n",
       "\n",
       "    .dataframe tbody tr th {\n",
       "        vertical-align: top;\n",
       "    }\n",
       "\n",
       "    .dataframe thead th {\n",
       "        text-align: right;\n",
       "    }\n",
       "</style>\n",
       "<table border=\"1\" class=\"dataframe\">\n",
       "  <thead>\n",
       "    <tr style=\"text-align: right;\">\n",
       "      <th></th>\n",
       "      <th>age</th>\n",
       "      <th>job</th>\n",
       "      <th>marital</th>\n",
       "      <th>education</th>\n",
       "      <th>default</th>\n",
       "      <th>balance</th>\n",
       "      <th>housing</th>\n",
       "      <th>loan</th>\n",
       "      <th>contact</th>\n",
       "      <th>day</th>\n",
       "      <th>month</th>\n",
       "      <th>duration</th>\n",
       "      <th>campaign</th>\n",
       "      <th>pdays</th>\n",
       "      <th>previous</th>\n",
       "      <th>poutcome</th>\n",
       "      <th>y</th>\n",
       "      <th>season</th>\n",
       "    </tr>\n",
       "  </thead>\n",
       "  <tbody>\n",
       "    <tr>\n",
       "      <th>0</th>\n",
       "      <td>30</td>\n",
       "      <td>unemployed</td>\n",
       "      <td>married</td>\n",
       "      <td>primary</td>\n",
       "      <td>no</td>\n",
       "      <td>1787</td>\n",
       "      <td>no</td>\n",
       "      <td>no</td>\n",
       "      <td>cellular</td>\n",
       "      <td>19</td>\n",
       "      <td>oct</td>\n",
       "      <td>79</td>\n",
       "      <td>1</td>\n",
       "      <td>-1</td>\n",
       "      <td>0</td>\n",
       "      <td>unknown</td>\n",
       "      <td>no</td>\n",
       "      <td>Fall</td>\n",
       "    </tr>\n",
       "    <tr>\n",
       "      <th>1</th>\n",
       "      <td>33</td>\n",
       "      <td>services</td>\n",
       "      <td>married</td>\n",
       "      <td>secondary</td>\n",
       "      <td>no</td>\n",
       "      <td>4789</td>\n",
       "      <td>yes</td>\n",
       "      <td>yes</td>\n",
       "      <td>cellular</td>\n",
       "      <td>11</td>\n",
       "      <td>may</td>\n",
       "      <td>220</td>\n",
       "      <td>1</td>\n",
       "      <td>339</td>\n",
       "      <td>4</td>\n",
       "      <td>failure</td>\n",
       "      <td>no</td>\n",
       "      <td>Spring</td>\n",
       "    </tr>\n",
       "    <tr>\n",
       "      <th>2</th>\n",
       "      <td>35</td>\n",
       "      <td>management</td>\n",
       "      <td>single</td>\n",
       "      <td>tertiary</td>\n",
       "      <td>no</td>\n",
       "      <td>1350</td>\n",
       "      <td>yes</td>\n",
       "      <td>no</td>\n",
       "      <td>cellular</td>\n",
       "      <td>16</td>\n",
       "      <td>apr</td>\n",
       "      <td>185</td>\n",
       "      <td>1</td>\n",
       "      <td>330</td>\n",
       "      <td>1</td>\n",
       "      <td>failure</td>\n",
       "      <td>no</td>\n",
       "      <td>Spring</td>\n",
       "    </tr>\n",
       "    <tr>\n",
       "      <th>3</th>\n",
       "      <td>30</td>\n",
       "      <td>management</td>\n",
       "      <td>married</td>\n",
       "      <td>tertiary</td>\n",
       "      <td>no</td>\n",
       "      <td>1476</td>\n",
       "      <td>yes</td>\n",
       "      <td>yes</td>\n",
       "      <td>unknown</td>\n",
       "      <td>3</td>\n",
       "      <td>jun</td>\n",
       "      <td>199</td>\n",
       "      <td>4</td>\n",
       "      <td>-1</td>\n",
       "      <td>0</td>\n",
       "      <td>unknown</td>\n",
       "      <td>no</td>\n",
       "      <td>Summer</td>\n",
       "    </tr>\n",
       "    <tr>\n",
       "      <th>4</th>\n",
       "      <td>59</td>\n",
       "      <td>blue-collar</td>\n",
       "      <td>married</td>\n",
       "      <td>secondary</td>\n",
       "      <td>no</td>\n",
       "      <td>0</td>\n",
       "      <td>yes</td>\n",
       "      <td>no</td>\n",
       "      <td>unknown</td>\n",
       "      <td>5</td>\n",
       "      <td>may</td>\n",
       "      <td>226</td>\n",
       "      <td>1</td>\n",
       "      <td>-1</td>\n",
       "      <td>0</td>\n",
       "      <td>unknown</td>\n",
       "      <td>no</td>\n",
       "      <td>Spring</td>\n",
       "    </tr>\n",
       "    <tr>\n",
       "      <th>...</th>\n",
       "      <td>...</td>\n",
       "      <td>...</td>\n",
       "      <td>...</td>\n",
       "      <td>...</td>\n",
       "      <td>...</td>\n",
       "      <td>...</td>\n",
       "      <td>...</td>\n",
       "      <td>...</td>\n",
       "      <td>...</td>\n",
       "      <td>...</td>\n",
       "      <td>...</td>\n",
       "      <td>...</td>\n",
       "      <td>...</td>\n",
       "      <td>...</td>\n",
       "      <td>...</td>\n",
       "      <td>...</td>\n",
       "      <td>...</td>\n",
       "      <td>...</td>\n",
       "    </tr>\n",
       "    <tr>\n",
       "      <th>4516</th>\n",
       "      <td>33</td>\n",
       "      <td>services</td>\n",
       "      <td>married</td>\n",
       "      <td>secondary</td>\n",
       "      <td>no</td>\n",
       "      <td>-333</td>\n",
       "      <td>yes</td>\n",
       "      <td>no</td>\n",
       "      <td>cellular</td>\n",
       "      <td>30</td>\n",
       "      <td>jul</td>\n",
       "      <td>329</td>\n",
       "      <td>5</td>\n",
       "      <td>-1</td>\n",
       "      <td>0</td>\n",
       "      <td>unknown</td>\n",
       "      <td>no</td>\n",
       "      <td>Summer</td>\n",
       "    </tr>\n",
       "    <tr>\n",
       "      <th>4517</th>\n",
       "      <td>57</td>\n",
       "      <td>self-employed</td>\n",
       "      <td>married</td>\n",
       "      <td>tertiary</td>\n",
       "      <td>yes</td>\n",
       "      <td>-3313</td>\n",
       "      <td>yes</td>\n",
       "      <td>yes</td>\n",
       "      <td>unknown</td>\n",
       "      <td>9</td>\n",
       "      <td>may</td>\n",
       "      <td>153</td>\n",
       "      <td>1</td>\n",
       "      <td>-1</td>\n",
       "      <td>0</td>\n",
       "      <td>unknown</td>\n",
       "      <td>no</td>\n",
       "      <td>Spring</td>\n",
       "    </tr>\n",
       "    <tr>\n",
       "      <th>4518</th>\n",
       "      <td>57</td>\n",
       "      <td>technician</td>\n",
       "      <td>married</td>\n",
       "      <td>secondary</td>\n",
       "      <td>no</td>\n",
       "      <td>295</td>\n",
       "      <td>no</td>\n",
       "      <td>no</td>\n",
       "      <td>cellular</td>\n",
       "      <td>19</td>\n",
       "      <td>aug</td>\n",
       "      <td>151</td>\n",
       "      <td>11</td>\n",
       "      <td>-1</td>\n",
       "      <td>0</td>\n",
       "      <td>unknown</td>\n",
       "      <td>no</td>\n",
       "      <td>Summer</td>\n",
       "    </tr>\n",
       "    <tr>\n",
       "      <th>4519</th>\n",
       "      <td>28</td>\n",
       "      <td>blue-collar</td>\n",
       "      <td>married</td>\n",
       "      <td>secondary</td>\n",
       "      <td>no</td>\n",
       "      <td>1137</td>\n",
       "      <td>no</td>\n",
       "      <td>no</td>\n",
       "      <td>cellular</td>\n",
       "      <td>6</td>\n",
       "      <td>feb</td>\n",
       "      <td>129</td>\n",
       "      <td>4</td>\n",
       "      <td>211</td>\n",
       "      <td>3</td>\n",
       "      <td>other</td>\n",
       "      <td>no</td>\n",
       "      <td>Winter</td>\n",
       "    </tr>\n",
       "    <tr>\n",
       "      <th>4520</th>\n",
       "      <td>44</td>\n",
       "      <td>entrepreneur</td>\n",
       "      <td>single</td>\n",
       "      <td>tertiary</td>\n",
       "      <td>no</td>\n",
       "      <td>1136</td>\n",
       "      <td>yes</td>\n",
       "      <td>yes</td>\n",
       "      <td>cellular</td>\n",
       "      <td>3</td>\n",
       "      <td>apr</td>\n",
       "      <td>345</td>\n",
       "      <td>2</td>\n",
       "      <td>249</td>\n",
       "      <td>7</td>\n",
       "      <td>other</td>\n",
       "      <td>no</td>\n",
       "      <td>Spring</td>\n",
       "    </tr>\n",
       "  </tbody>\n",
       "</table>\n",
       "<p>4521 rows × 18 columns</p>\n",
       "</div>"
      ],
      "text/plain": [
       "      age            job  marital  education default  balance housing loan  \\\n",
       "0      30     unemployed  married    primary      no     1787      no   no   \n",
       "1      33       services  married  secondary      no     4789     yes  yes   \n",
       "2      35     management   single   tertiary      no     1350     yes   no   \n",
       "3      30     management  married   tertiary      no     1476     yes  yes   \n",
       "4      59    blue-collar  married  secondary      no        0     yes   no   \n",
       "...   ...            ...      ...        ...     ...      ...     ...  ...   \n",
       "4516   33       services  married  secondary      no     -333     yes   no   \n",
       "4517   57  self-employed  married   tertiary     yes    -3313     yes  yes   \n",
       "4518   57     technician  married  secondary      no      295      no   no   \n",
       "4519   28    blue-collar  married  secondary      no     1137      no   no   \n",
       "4520   44   entrepreneur   single   tertiary      no     1136     yes  yes   \n",
       "\n",
       "       contact  day month  duration  campaign  pdays  previous poutcome   y  \\\n",
       "0     cellular   19   oct        79         1     -1         0  unknown  no   \n",
       "1     cellular   11   may       220         1    339         4  failure  no   \n",
       "2     cellular   16   apr       185         1    330         1  failure  no   \n",
       "3      unknown    3   jun       199         4     -1         0  unknown  no   \n",
       "4      unknown    5   may       226         1     -1         0  unknown  no   \n",
       "...        ...  ...   ...       ...       ...    ...       ...      ...  ..   \n",
       "4516  cellular   30   jul       329         5     -1         0  unknown  no   \n",
       "4517   unknown    9   may       153         1     -1         0  unknown  no   \n",
       "4518  cellular   19   aug       151        11     -1         0  unknown  no   \n",
       "4519  cellular    6   feb       129         4    211         3    other  no   \n",
       "4520  cellular    3   apr       345         2    249         7    other  no   \n",
       "\n",
       "      season  \n",
       "0       Fall  \n",
       "1     Spring  \n",
       "2     Spring  \n",
       "3     Summer  \n",
       "4     Spring  \n",
       "...      ...  \n",
       "4516  Summer  \n",
       "4517  Spring  \n",
       "4518  Summer  \n",
       "4519  Winter  \n",
       "4520  Spring  \n",
       "\n",
       "[4521 rows x 18 columns]"
      ]
     },
     "execution_count": 9,
     "metadata": {},
     "output_type": "execute_result"
    }
   ],
   "source": [
    "# We are defining a function that maps the month column of the input DataFrame to seasons and adds a new 'season' column\n",
    "def monthtoseason(df):\n",
    "    mts = {'jan': 'Winter', 'feb': 'Winter', 'mar': 'Spring', 'apr': 'Spring', 'may': 'Spring',\n",
    "                       'jun': 'Summer', 'jul': 'Summer', 'aug': 'Summer', 'sep': 'Fall', 'oct': 'Fall',\n",
    "                       'nov': 'Fall', 'dec': 'Winter'}\n",
    "    \n",
    "    df['season'] = df['month'].map(mts)\n",
    "    \n",
    "    return df\n",
    "\n",
    "monthtoseason(bankdf)"
   ]
  },
  {
   "cell_type": "markdown",
   "id": "5889e8cd",
   "metadata": {},
   "source": [
    "#### 6.  Use the count plot with a variable that you created in the above question and also the Y variable to find the class distribution."
   ]
  },
  {
   "cell_type": "code",
   "execution_count": 11,
   "id": "b2609105",
   "metadata": {},
   "outputs": [
    {
     "data": {
      "image/png": "[encoded data removed]",
      "text/plain": [
       "<Figure size 576x432 with 1 Axes>"
      ]
     },
     "metadata": {
      "needs_background": "light"
     },
     "output_type": "display_data"
    }
   ],
   "source": [
    "#This code creates a new figure with a size of 8x6 inches.\n",
    "plt.figure(figsize=(8,6))\n",
    "\n",
    "#Code to get a countplot of the season distribution for the target variable 'y'\n",
    "sns.countplot(x='season', hue='y', data=bankdf)\n",
    "plt.title('Season and Subscription Distribution', fontsize=14)\n",
    "plt.xlabel('Season', fontsize=12)\n",
    "plt.ylabel('Count', fontsize=12)\n",
    "plt.show()"
   ]
  },
  {
   "cell_type": "markdown",
   "id": "66445ee8",
   "metadata": {},
   "source": [
    "From the class distribution, we can observe that the majority of the calls were made in the summer season for both subscribed and non-subscribed customers. The next highest season for non-subscribed customers was Spring, while for subscribed customers, it was Fall. Interestingly, there were significantly fewer calls made in the winter season for both subscribed and non-subscribed customers. This indicates that seasonality may have some effect on subscription behavior, with more customers subscribing during the Fall season, while non-subscribed customers were more likely to be contacted during the Summer season.\n",
    "\n",
    "Based on the analysis, it seems that there is no significant seasonal trend in the subscription behavior. However, the majority of subscriptions occurred in the summer season, followed by spring and fall. It is important to note that this is just a general trend and it may vary depending on other factors."
   ]
  },
  {
   "cell_type": "markdown",
   "id": "d797a936",
   "metadata": {},
   "source": [
    "#### 7. Use the Pdays feature and find does it cause any effect on the subscription of the term using the bar plot."
   ]
  },
  {
   "cell_type": "code",
   "execution_count": 14,
   "id": "51dd8b5b",
   "metadata": {},
   "outputs": [
    {
     "data": {
      "image/png": "[encoded data removed]",
      "text/plain": [
       "<Figure size 432x288 with 1 Axes>"
      ]
     },
     "metadata": {
      "needs_background": "light"
     },
     "output_type": "display_data"
    }
   ],
   "source": [
    "#This code creates a bar plot using Seaborn library\n",
    "#Here x-axis represents the subscription status\n",
    "#Here y-axis represents the number of days since the client was last contacted from a previous campaign\n",
    "sns.barplot(x = 'y',y='pdays',data=bankdf)\n",
    "plt.title('Effect of Pdays on Subscription of Term')\n",
    "plt.xlabel('Subscribed', fontsize=12)\n",
    "plt.ylabel('Pdays', fontsize=12)\n",
    "plt.show()"
   ]
  },
  {
   "cell_type": "markdown",
   "id": "ccf839b9",
   "metadata": {},
   "source": [
    "Since the number of subscriptions is rising as the number of pdays rises, it follows that clients who have already been contacted or have been contacted more frequently are more inclined to subscribe. This would imply that cultivating a relationship with prospective customers and keeping in touch frequently may boost the likelihood of subscribing. The maximum value of pdays is 871, thus some clients may have been contacted more than two years ago, and it may not be relevant to take such records into account for drawing any conclusions."
   ]
  },
  {
   "cell_type": "markdown",
   "id": "fcc50e92",
   "metadata": {},
   "source": [
    "#### 8. Replace the -1 as nan values for the P-days store."
   ]
  },
  {
   "cell_type": "code",
   "execution_count": 12,
   "id": "275f280f",
   "metadata": {},
   "outputs": [
    {
     "data": {
      "text/html": [
       "<div>\n",
       "<style scoped>\n",
       "    .dataframe tbody tr th:only-of-type {\n",
       "        vertical-align: middle;\n",
       "    }\n",
       "\n",
       "    .dataframe tbody tr th {\n",
       "        vertical-align: top;\n",
       "    }\n",
       "\n",
       "    .dataframe thead th {\n",
       "        text-align: right;\n",
       "    }\n",
       "</style>\n",
       "<table border=\"1\" class=\"dataframe\">\n",
       "  <thead>\n",
       "    <tr style=\"text-align: right;\">\n",
       "      <th></th>\n",
       "      <th>age</th>\n",
       "      <th>job</th>\n",
       "      <th>marital</th>\n",
       "      <th>education</th>\n",
       "      <th>default</th>\n",
       "      <th>balance</th>\n",
       "      <th>housing</th>\n",
       "      <th>loan</th>\n",
       "      <th>contact</th>\n",
       "      <th>day</th>\n",
       "      <th>month</th>\n",
       "      <th>duration</th>\n",
       "      <th>campaign</th>\n",
       "      <th>pdays</th>\n",
       "      <th>previous</th>\n",
       "      <th>poutcome</th>\n",
       "      <th>y</th>\n",
       "      <th>season</th>\n",
       "    </tr>\n",
       "  </thead>\n",
       "  <tbody>\n",
       "    <tr>\n",
       "      <th>0</th>\n",
       "      <td>30</td>\n",
       "      <td>unemployed</td>\n",
       "      <td>married</td>\n",
       "      <td>primary</td>\n",
       "      <td>no</td>\n",
       "      <td>1787</td>\n",
       "      <td>no</td>\n",
       "      <td>no</td>\n",
       "      <td>cellular</td>\n",
       "      <td>19</td>\n",
       "      <td>oct</td>\n",
       "      <td>79</td>\n",
       "      <td>1</td>\n",
       "      <td>NaN</td>\n",
       "      <td>0</td>\n",
       "      <td>unknown</td>\n",
       "      <td>no</td>\n",
       "      <td>Fall</td>\n",
       "    </tr>\n",
       "    <tr>\n",
       "      <th>1</th>\n",
       "      <td>33</td>\n",
       "      <td>services</td>\n",
       "      <td>married</td>\n",
       "      <td>secondary</td>\n",
       "      <td>no</td>\n",
       "      <td>4789</td>\n",
       "      <td>yes</td>\n",
       "      <td>yes</td>\n",
       "      <td>cellular</td>\n",
       "      <td>11</td>\n",
       "      <td>may</td>\n",
       "      <td>220</td>\n",
       "      <td>1</td>\n",
       "      <td>339.0</td>\n",
       "      <td>4</td>\n",
       "      <td>failure</td>\n",
       "      <td>no</td>\n",
       "      <td>Spring</td>\n",
       "    </tr>\n",
       "    <tr>\n",
       "      <th>2</th>\n",
       "      <td>35</td>\n",
       "      <td>management</td>\n",
       "      <td>single</td>\n",
       "      <td>tertiary</td>\n",
       "      <td>no</td>\n",
       "      <td>1350</td>\n",
       "      <td>yes</td>\n",
       "      <td>no</td>\n",
       "      <td>cellular</td>\n",
       "      <td>16</td>\n",
       "      <td>apr</td>\n",
       "      <td>185</td>\n",
       "      <td>1</td>\n",
       "      <td>330.0</td>\n",
       "      <td>1</td>\n",
       "      <td>failure</td>\n",
       "      <td>no</td>\n",
       "      <td>Spring</td>\n",
       "    </tr>\n",
       "    <tr>\n",
       "      <th>3</th>\n",
       "      <td>30</td>\n",
       "      <td>management</td>\n",
       "      <td>married</td>\n",
       "      <td>tertiary</td>\n",
       "      <td>no</td>\n",
       "      <td>1476</td>\n",
       "      <td>yes</td>\n",
       "      <td>yes</td>\n",
       "      <td>unknown</td>\n",
       "      <td>3</td>\n",
       "      <td>jun</td>\n",
       "      <td>199</td>\n",
       "      <td>4</td>\n",
       "      <td>NaN</td>\n",
       "      <td>0</td>\n",
       "      <td>unknown</td>\n",
       "      <td>no</td>\n",
       "      <td>Summer</td>\n",
       "    </tr>\n",
       "    <tr>\n",
       "      <th>4</th>\n",
       "      <td>59</td>\n",
       "      <td>blue-collar</td>\n",
       "      <td>married</td>\n",
       "      <td>secondary</td>\n",
       "      <td>no</td>\n",
       "      <td>0</td>\n",
       "      <td>yes</td>\n",
       "      <td>no</td>\n",
       "      <td>unknown</td>\n",
       "      <td>5</td>\n",
       "      <td>may</td>\n",
       "      <td>226</td>\n",
       "      <td>1</td>\n",
       "      <td>NaN</td>\n",
       "      <td>0</td>\n",
       "      <td>unknown</td>\n",
       "      <td>no</td>\n",
       "      <td>Spring</td>\n",
       "    </tr>\n",
       "  </tbody>\n",
       "</table>\n",
       "</div>"
      ],
      "text/plain": [
       "   age          job  marital  education default  balance housing loan  \\\n",
       "0   30   unemployed  married    primary      no     1787      no   no   \n",
       "1   33     services  married  secondary      no     4789     yes  yes   \n",
       "2   35   management   single   tertiary      no     1350     yes   no   \n",
       "3   30   management  married   tertiary      no     1476     yes  yes   \n",
       "4   59  blue-collar  married  secondary      no        0     yes   no   \n",
       "\n",
       "    contact  day month  duration  campaign  pdays  previous poutcome   y  \\\n",
       "0  cellular   19   oct        79         1    NaN         0  unknown  no   \n",
       "1  cellular   11   may       220         1  339.0         4  failure  no   \n",
       "2  cellular   16   apr       185         1  330.0         1  failure  no   \n",
       "3   unknown    3   jun       199         4    NaN         0  unknown  no   \n",
       "4   unknown    5   may       226         1    NaN         0  unknown  no   \n",
       "\n",
       "   season  \n",
       "0    Fall  \n",
       "1  Spring  \n",
       "2  Spring  \n",
       "3  Summer  \n",
       "4  Spring  "
      ]
     },
     "execution_count": 12,
     "metadata": {},
     "output_type": "execute_result"
    }
   ],
   "source": [
    "#Replacing the value -1 in column 'pdays' with NaN\n",
    "bankdf['pdays'] = bankdf['pdays'].replace(-1,np.nan)\n",
    "bankdf.head()"
   ]
  },
  {
   "cell_type": "markdown",
   "id": "3d6ed568",
   "metadata": {},
   "source": [
    "#### 9. Once you are done with question number 8, do the same analysis as question number 7. And observe the difference between question number 7 and question number 9."
   ]
  },
  {
   "cell_type": "code",
   "execution_count": 13,
   "id": "df06d2e1",
   "metadata": {},
   "outputs": [
    {
     "data": {
      "image/png": "[encoded data removed]",
      "text/plain": [
       "<Figure size 432x288 with 1 Axes>"
      ]
     },
     "metadata": {
      "needs_background": "light"
     },
     "output_type": "display_data"
    }
   ],
   "source": [
    "#This code creates a bar plot using Seaborn library\n",
    "#Here x-axis represents the subscription status\n",
    "#Here y-axis represents the number of days since the client was last contacted from a previous campaign from the bank dataset\n",
    "sns.barplot(x = 'y',y='pdays',data=bankdf)\n",
    "plt.title('Effect of Pdays on Subscription of Term')\n",
    "plt.xlabel('Subscribed', fontsize=12)\n",
    "plt.ylabel('Pdays', fontsize=12)\n",
    "plt.show()"
   ]
  },
  {
   "cell_type": "markdown",
   "id": "a4e1d875",
   "metadata": {},
   "source": [
    "Between questions 7 and 9, there is a noticeable variation in the plot. When the Pdays grew in question 7, the plot indicated an increasing trend in the number of subscriptions. However, since the NaN values are not included in the plot, we can see that there is no obvious pattern in the Pdays column after swapping out the -1 values for NaN values. The increasing trend seen in question 7 was caused by the presence of -1 values, leading us to the conclusion that the Pdays feature has no discernible impact on the subscription status."
   ]
  },
  {
   "cell_type": "markdown",
   "id": "6d6b8876",
   "metadata": {},
   "source": [
    "#### 10. Does the customer take the term subscription who has less than 0 balance?\n",
    "Hint: Use any kind of plot which would you the related information to this question."
   ]
  },
  {
   "cell_type": "code",
   "execution_count": 14,
   "id": "ab3a42bb",
   "metadata": {},
   "outputs": [
    {
     "name": "stdout",
     "output_type": "stream",
     "text": [
      "8.469945355191257\n",
      "11.523999115239992\n"
     ]
    },
    {
     "data": {
      "image/png": "[encoded data removed]",
      "text/plain": [
       "<Figure size 432x288 with 1 Axes>"
      ]
     },
     "metadata": {
      "needs_background": "light"
     },
     "output_type": "display_data"
    }
   ],
   "source": [
    "#This code calculates the subscription rate for clients with negative balance in their account.\n",
    "sub_rate_negbal = (bankdf.loc[bankdf['balance'] < 0, 'y'].value_counts(normalize=True) * 100)['yes']\n",
    "print(sub_rate_negbal)\n",
    "\n",
    "#This code calculates the overall subscription rate for all the clients \n",
    "sub_rate_overall = (bankdf['y'].value_counts(normalize=True) * 100)['yes']\n",
    "print(sub_rate_overall)\n",
    "\n",
    "#Creating a bar plot to compare the subscription rate for customers with negative balance and overall subscription rate\n",
    "plt.bar(['Balance < 0', 'Overall'], [sub_rate_negbal, sub_rate_overall])\n",
    "plt.ylabel('Subscription rate (%)')\n",
    "\n",
    "#This code adds text labels to the top of each bar in a bar plot\n",
    "#It loops through the values in the list [sub_rate_negbal, sub_rate_overall]\n",
    "#and their corresponding indices using the enumerate function\n",
    "#For each value and index, it adding a text label to the top of the corresponding bar in the plot.\n",
    "for i, v in enumerate([sub_rate_negbal, sub_rate_overall]):\n",
    "    plt.text(i, v + 0.1, f\"{v:.2f}%\", ha='center')\n",
    "\n",
    "plt.show()"
   ]
  },
  {
   "cell_type": "markdown",
   "id": "691a7767",
   "metadata": {},
   "source": [
    "Customers with a negative balance are less likely to subscribe to the term deposit than customers with a positive balance or no balance at all, according to the calculated subscription rate for customers with a balance of less than 0 (8.47%) and the overall subscription rate (11.52%). Therefore, a customer's likelihood of signing up for the term deposit may not be significantly influenced by having a negative balance."
   ]
  },
  {
   "cell_type": "markdown",
   "id": "e9accd50",
   "metadata": {},
   "source": [
    "#### 11. Use Pivot table to find the maximum balance for each type of job."
   ]
  },
  {
   "cell_type": "code",
   "execution_count": 15,
   "id": "167ffb21",
   "metadata": {},
   "outputs": [
    {
     "data": {
      "text/html": [
       "<div>\n",
       "<style scoped>\n",
       "    .dataframe tbody tr th:only-of-type {\n",
       "        vertical-align: middle;\n",
       "    }\n",
       "\n",
       "    .dataframe tbody tr th {\n",
       "        vertical-align: top;\n",
       "    }\n",
       "\n",
       "    .dataframe thead th {\n",
       "        text-align: right;\n",
       "    }\n",
       "</style>\n",
       "<table border=\"1\" class=\"dataframe\">\n",
       "  <thead>\n",
       "    <tr style=\"text-align: right;\">\n",
       "      <th></th>\n",
       "      <th>balance</th>\n",
       "    </tr>\n",
       "    <tr>\n",
       "      <th>job</th>\n",
       "      <th></th>\n",
       "    </tr>\n",
       "  </thead>\n",
       "  <tbody>\n",
       "    <tr>\n",
       "      <th>retired</th>\n",
       "      <td>71188</td>\n",
       "    </tr>\n",
       "    <tr>\n",
       "      <th>entrepreneur</th>\n",
       "      <td>42045</td>\n",
       "    </tr>\n",
       "    <tr>\n",
       "      <th>technician</th>\n",
       "      <td>27733</td>\n",
       "    </tr>\n",
       "    <tr>\n",
       "      <th>management</th>\n",
       "      <td>27359</td>\n",
       "    </tr>\n",
       "    <tr>\n",
       "      <th>housemaid</th>\n",
       "      <td>26965</td>\n",
       "    </tr>\n",
       "    <tr>\n",
       "      <th>services</th>\n",
       "      <td>26394</td>\n",
       "    </tr>\n",
       "    <tr>\n",
       "      <th>admin.</th>\n",
       "      <td>22171</td>\n",
       "    </tr>\n",
       "    <tr>\n",
       "      <th>self-employed</th>\n",
       "      <td>16430</td>\n",
       "    </tr>\n",
       "    <tr>\n",
       "      <th>blue-collar</th>\n",
       "      <td>16353</td>\n",
       "    </tr>\n",
       "    <tr>\n",
       "      <th>student</th>\n",
       "      <td>11555</td>\n",
       "    </tr>\n",
       "    <tr>\n",
       "      <th>unemployed</th>\n",
       "      <td>9019</td>\n",
       "    </tr>\n",
       "    <tr>\n",
       "      <th>unknown</th>\n",
       "      <td>7337</td>\n",
       "    </tr>\n",
       "  </tbody>\n",
       "</table>\n",
       "</div>"
      ],
      "text/plain": [
       "               balance\n",
       "job                   \n",
       "retired          71188\n",
       "entrepreneur     42045\n",
       "technician       27733\n",
       "management       27359\n",
       "housemaid        26965\n",
       "services         26394\n",
       "admin.           22171\n",
       "self-employed    16430\n",
       "blue-collar      16353\n",
       "student          11555\n",
       "unemployed        9019\n",
       "unknown           7337"
      ]
     },
     "execution_count": 15,
     "metadata": {},
     "output_type": "execute_result"
    }
   ],
   "source": [
    "#This code creates a pivot table using the Pandas function that calculates the maximum balance for each job category\n",
    "max_balance_by_job = pd.pivot_table(bankdf, index='job', values='balance', aggfunc=max)\n",
    "\n",
    "#Sorting the maximum balance by job in descending order\n",
    "max_balance_by_job = max_balance_by_job.sort_values(by='balance', ascending=False)\n",
    "\n",
    "max_balance_by_job"
   ]
  },
  {
   "cell_type": "markdown",
   "id": "916965ae",
   "metadata": {},
   "source": [
    "The output suggests that clients in the retired career category, followed by those in the entrepreneur job category, have the highest maximum balances. Customers in the category of unspecified jobs, on the other hand, have the lowest maximum balances. Overall, the maximum balance varies significantly amongst the various employment groups."
   ]
  },
  {
   "cell_type": "markdown",
   "id": "20ab90ce",
   "metadata": {},
   "source": [
    "#### 12. Use the Age, balance, and Y column to plot the scatter plot and find what kind of relationship Age and balance had, and See the points which belong 0 and 1 class and how they are distributed."
   ]
  },
  {
   "cell_type": "code",
   "execution_count": 16,
   "id": "79338f2f",
   "metadata": {},
   "outputs": [
    {
     "data": {
      "image/png": "[encoded data removed]",
      "text/plain": [
       "<Figure size 432x288 with 1 Axes>"
      ]
     },
     "metadata": {
      "needs_background": "light"
     },
     "output_type": "display_data"
    }
   ],
   "source": [
    "# Creating a new DataFrame with rows where the 'y' column is 'no'\n",
    "y_0 = bankdf[bankdf['y'] == 'no']\n",
    "# Creating a new DataFrame with rows where the 'y' column is 'yes'\n",
    "y_1 = bankdf[bankdf['y'] == 'yes']\n",
    "\n",
    "#Creating a new figure and axes objects using subplots() method from the matplotlib library\n",
    "fig, ax = plt.subplots()\n",
    "\n",
    "#Creating scatter plot for y=0 data points with age and balance as the axes\n",
    "ax.scatter(y_0['age'], y_0['balance'], color='blue', label='y = 0')\n",
    "\n",
    "#Creating scatter plot for y=1 data points with age and balance as the axes\n",
    "ax.scatter(y_1['age'], y_1['balance'], color='red', label='y = 1')\n",
    "\n",
    "plt.title('Distribution of age and balance')\n",
    "ax.set_xlabel('Age')\n",
    "ax.set_ylabel('Balance')\n",
    "ax.legend()\n",
    "\n",
    "plt.show()"
   ]
  },
  {
   "cell_type": "markdown",
   "id": "36bb825d",
   "metadata": {},
   "source": [
    "The blue dots appear to be distributed higher on the y-axis for higher values of balance, indicating that customers with higher balances were less likely to subscribe to term deposits. However, there does not seem to be a clear relationship between age and balance. It seems like there is a weak positive relationship between age and balance. It is important to note that a scatter plot only shows the relationship between two variables and cannot establish causality or provide a complete picture of the data."
   ]
  },
  {
   "cell_type": "markdown",
   "id": "3af6c179",
   "metadata": {},
   "source": [
    "#### 13. Use the violin plot and also the box plot to find the distribution of the balance for each class of the Y column. And try to tell why we have a Violin plot and Box plot both rather than one."
   ]
  },
  {
   "cell_type": "code",
   "execution_count": 17,
   "id": "810b542d",
   "metadata": {},
   "outputs": [
    {
     "data": {
      "image/png": "[encoded data removed]",
      "text/plain": [
       "<Figure size 432x288 with 1 Axes>"
      ]
     },
     "metadata": {
      "needs_background": "light"
     },
     "output_type": "display_data"
    }
   ],
   "source": [
    "#creating a violin plot to visualize the distribution of balance for both classes of 'y'\n",
    "sns.violinplot(x=\"y\", y=\"balance\", data=bankdf)\n",
    "\n",
    "plt.title('Distribution of Balance by Subscription', fontsize=14)\n",
    "\n",
    "plt.xlabel('Subscription', fontsize=12)\n",
    "plt.ylabel('Balance', fontsize=12)\n",
    "\n",
    "plt.show()"
   ]
  },
  {
   "cell_type": "code",
   "execution_count": 18,
   "id": "dc7f5297",
   "metadata": {},
   "outputs": [
    {
     "data": {
      "image/png": "[encoded data removed]",
      "text/plain": [
       "<Figure size 432x288 with 1 Axes>"
      ]
     },
     "metadata": {
      "needs_background": "light"
     },
     "output_type": "display_data"
    }
   ],
   "source": [
    "#Creating a box plot of balance distribution for two target classes 'yes' and 'no'\n",
    "sns.boxplot(x=\"y\", y=\"balance\", data=bankdf)\n",
    "\n",
    "plt.title('Distribution of Balance by Subscription', fontsize=14)\n",
    "\n",
    "plt.xlabel('Subscription', fontsize=12)\n",
    "plt.ylabel('Balance', fontsize=12)\n",
    "\n",
    "plt.show()"
   ]
  },
  {
   "cell_type": "markdown",
   "id": "8aef8bf7",
   "metadata": {},
   "source": [
    "The reason for having both violin plot and box plot is to provide complementary information about the distribution of the data.\n",
    "\n",
    "A box plot summarizes the data by showing the median, quartiles, and any outliers in the data. It provides information about the central tendency, spread, and skewness of the distribution.\n",
    "\n",
    "On the other hand, a violin plot not only shows the same information as the box plot but also shows the shape of the distribution more clearly. It represents the distribution with a kernel density plot, which shows the density of the data at different values along the y-axis. The width of the violin at a particular point represents the density of the data at that point.\n",
    "\n",
    "Thus, a violin plot provides a more detailed view of the distribution than a box plot, especially when the data is multimodal or has outliers. However, a box plot is easier to read and more familiar to many people, so using both types of plots can provide a more complete picture of the data."
   ]
  },
  {
   "cell_type": "markdown",
   "id": "9a7de2cf",
   "metadata": {},
   "source": [
    "The median balance for customers who subscribed to the term deposit is higher than that of customers who did not subscribe.\n",
    "Customers who subscribed to the term deposit have a wider range of balances than customers who did not subscribe."
   ]
  },
  {
   "cell_type": "markdown",
   "id": "11e200a5",
   "metadata": {},
   "source": [
    "#### 14. Use a pie plot to know the Proportion(distribution) of the defaulters and non-defaulters.\n",
    "Note: Try to explore more parameters that are there in the pie-plot method."
   ]
  },
  {
   "cell_type": "code",
   "execution_count": 19,
   "id": "538c897a",
   "metadata": {},
   "outputs": [
    {
     "name": "stdout",
     "output_type": "stream",
     "text": [
      "no     4445\n",
      "yes      76\n",
      "Name: default, dtype: int64\n"
     ]
    },
    {
     "data": {
      "image/png": "[encoded data removed]",
      "text/plain": [
       "<Figure size 720x432 with 1 Axes>"
      ]
     },
     "metadata": {},
     "output_type": "display_data"
    }
   ],
   "source": [
    "#Counting the number of values in the 'default' column and storing the count in 'default_counts' variable\n",
    "default_counts = bankdf['default'].value_counts()\n",
    "print(default_counts)\n",
    "\n",
    "#This code creates a new figure with a size of 10x6 inches.\n",
    "plt.figure(figsize=(10,6))\n",
    "labels = ['Non-Defaulters', 'Defaulters']\n",
    "\n",
    "#This code creates a pie chart using the value counts of the 'default' column\n",
    "#corresponding labels and autopct values displayed as percentages with one decimal place\n",
    "#font size of the text set to 10\n",
    "plt.pie(default_counts.values,labels = labels,autopct = '%1.1f%%',textprops={'fontsize': 10})\n",
    "\n",
    "plt.title('Proportion of Defaulters and Non-defaulters', fontdict = {'fontsize' : 15,'color' : 'black'})\n",
    "\n",
    "\n",
    "plt.show()"
   ]
  },
  {
   "cell_type": "markdown",
   "id": "e5eb3ca6",
   "metadata": {},
   "source": [
    "Insights:\n",
    "\n",
    "From the pie chart, it is evident that the number of non-defaulters is significantly higher than the number of defaulters.\n",
    "The proportion of defaulters to non-defaulters is quite small, indicating that the bank's credit risk assessment methods are efficient.\n",
    "\n",
    "Suggestions:\n",
    "\n",
    "As the proportion of defaulters is low, the bank should continue its current credit risk assessment practices.\n",
    "The bank should focus on retaining existing customers by offering them better services and products, as the majority of customers are non-defaulters."
   ]
  },
  {
   "cell_type": "markdown",
   "id": "70d73a96",
   "metadata": {},
   "source": [
    "#### 15. Use Box plot and strip plot to know the distribution of the Pdays with respect to Y classes and differentiate both plots."
   ]
  },
  {
   "cell_type": "code",
   "execution_count": 20,
   "id": "d5c13f43",
   "metadata": {},
   "outputs": [
    {
     "data": {
      "image/png": "[encoded data removed]",
      "text/plain": [
       "<Figure size 864x432 with 2 Axes>"
      ]
     },
     "metadata": {
      "needs_background": "light"
     },
     "output_type": "display_data"
    }
   ],
   "source": [
    "data = bankdf[['y', 'pdays']]\n",
    "\n",
    "#This code initializes a figure with two subplots side-by-side, with a size of 12 inches in width and 6 inches in height\n",
    "#The ax variable is a NumPy array containing the two axes objects\n",
    "fig, ax = plt.subplots(ncols=2, figsize=(12, 6))\n",
    "\n",
    "#This code generates a boxplot to visualize the distribution of the \"pdays\" variable for the \"yes\" and \"no\" classes of the \"y\"\n",
    "sns.boxplot(x='y', y='pdays', data=bankdf, ax=ax[0])\n",
    "ax[0].set_xlabel('Subscribed')\n",
    "ax[0].set_ylabel('Pdays')\n",
    "\n",
    "#This code generates a stripplot to visualize the distribution of the \"pdays\" variable for the \"yes\" and \"no\" classes of \"y\"\n",
    "sns.stripplot(x='y', y='pdays', data=bankdf, jitter=True, color='black', ax=ax[1])\n",
    "ax[1].set_xlabel('Subscribed')\n",
    "ax[1].set_ylabel('Pdays')\n",
    "\n",
    "# This for loop adds \"--\" lines to the second subplot at the y-tick positions:\n",
    "for y in ax[1].get_yticks():\n",
    "    ax[1].axhline(y=y, color='lightgray', linestyle='--', linewidth=0.5)\n",
    "\n",
    "plt.show()"
   ]
  },
  {
   "cell_type": "markdown",
   "id": "4d81a2bc",
   "metadata": {},
   "source": [
    "The box plot shows the distribution of pdays values for each y class. \n",
    "It displays the median, quartiles, and outliers in the data. \n",
    "The strip plot shows the individual pdays values for each y class. \n",
    "It can help identify any clusters or patterns in the data\n",
    "\n",
    "From the above visualization we can see that the pdays variable is a useful predictor of the y outcome, \n",
    "as there appears to be a noticeable difference in the distribution of pdays values between the two y classes."
   ]
  },
  {
   "cell_type": "markdown",
   "id": "defcb210",
   "metadata": {},
   "source": [
    "Based on the Box plot, we can observe that the median pdays for customers who subscribed to the term deposit is lower compared to those who didn't subscribe. Also, we can see that there are many outliers in the group of customers who didn't subscribe, which indicates that some customers were not contacted for a long time.\n",
    "\n",
    "The Strip plot is useful in visualizing the distribution of pdays for both classes of Y. We can see that for customers who subscribed to the term deposit, most of them were contacted within 100 days, whereas for customers who didn't subscribe, there is a wider range of pdays. This suggests that contacting customers within a shorter period of time can increase the chances of them subscribing.\n",
    "\n",
    "Based on these insights, we can suggest that the bank should focus on contacting customers who have not been contacted for a long time and try to reach out to them within a shorter period to increase the chances of subscription. Additionally, the bank can prioritize customers who have a lower value of pdays for targeted marketing campaigns."
   ]
  },
  {
   "cell_type": "markdown",
   "id": "896eb744",
   "metadata": {},
   "source": [
    "## INFERENCES"
   ]
  },
  {
   "cell_type": "markdown",
   "id": "041fd64d",
   "metadata": {},
   "source": [
    "Insights - \n",
    "1. Customers who had no default on credit, had a higher average yearly balance, and were contacted previously were more likely to subscribe to the term deposit.\n",
    "2. the subscription rates are higher during the summer and spring seasons. \n",
    "3. The insight is that the longer the time since last contact (pdays), the less likely a customer is to subscribe. \n",
    "4.  Customers with lower balance or negative balance are less likely to subscribe.\n",
    "\n",
    "Area of focus - \n",
    "1. Explore the reasons behind the lower subscription rates during fall and winter and try to identify strategies to improve the rates during these seasons.\n",
    "2. Providing more financial education and awareness to customers to increase their understanding and interest in banking services\n",
    "3. Reducing the barriers or difficulties in the subscription process to make it easier and more convenient for customers.\n",
    "4. We can target the age group between 30-50 years.\n",
    "\n",
    "Suggestions - \n",
    "1. Leverage social media platforms and other digital marketing channels to reach out to customers during the spring and summer months.\n",
    "2. The suggestion would be to have a systematic follow-up plan in place, where potential customers are contacted at regular intervals with targeted marketing campaigns\n",
    "3. Targeting the audience in the job categories of management and technician may be a viable strategy, as these categories are among the top 5 in terms of average balance held.\n",
    "4. The bank could focus on improving their customer feedback mechanisms after the marketing campaigns to understand the requirements of customers and use technology to improve the customer experience. "
   ]
  },
  {
   "cell_type": "markdown",
   "id": "7a4c19ea",
   "metadata": {},
   "source": [
    "Learnings - \n",
    "\n",
    "1. Understanding how to approach and frame a business problem and translate it into a data analysis project\n",
    "2. Familiarity with data cleaning and preprocessing techniques to make the data usable for analysis\n",
    "3. Knowledge of various exploratory data analysis techniques to understand and gain insights from the data\n",
    "4. Experience with data visualization tools to effectively communicate insights and findings to stakeholders\n",
    "5. Ability to work with different data analysis libraries and tools, and to choose the most appropriate ones for the task at hand.\n",
    "\n",
    "In future projects, we will use these skills to approach new business problems with a critical and data-driven mindset, and to effectively communicate insights and recommendations to stakeholders. We will also continue to learn and explore new tools and techniques in data analysis to stay current with the rapidly evolving field."
   ]
  },
  {
   "cell_type": "code",
   "execution_count": null,
   "id": "ed6e4074",
   "metadata": {},
   "outputs": [],
   "source": []
  }
 ],
 "metadata": {
  "kernelspec": {
   "display_name": "Python 3 (ipykernel)",
   "language": "python",
   "name": "python3"
  },
  "language_info": {
   "codemirror_mode": {
    "name": "ipython",
    "version": 3
   },
   "file_extension": ".py",
   "mimetype": "text/x-python",
   "name": "python",
   "nbconvert_exporter": "python",
   "pygments_lexer": "ipython3",
   "version": "3.9.7"
  }
 },
 "nbformat": 4,
 "nbformat_minor": 5
}
